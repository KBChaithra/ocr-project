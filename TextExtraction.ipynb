{
 "cells": [
  {
   "cell_type": "code",
   "execution_count": 1,
   "id": "7527a231-64fc-4077-b533-6041d10268c2",
   "metadata": {},
   "outputs": [
    {
     "data": {
      "application/vnd.jupyter.widget-view+json": {
       "model_id": "a2b053410c0c4a9984f292ac04ccb8fd",
       "version_major": 2,
       "version_minor": 0
      },
      "text/plain": [
       "Output()"
      ]
     },
     "metadata": {},
     "output_type": "display_data"
    },
    {
     "data": {
      "application/vnd.jupyter.widget-view+json": {
       "model_id": "4d8536b2d6fb4dfdb3effebc3410f475",
       "version_major": 2,
       "version_minor": 0
      },
      "text/plain": [
       "Dropdown(description='Language:', options=('eng', 'spa', 'fra', 'deu'), value='eng')"
      ]
     },
     "metadata": {},
     "output_type": "display_data"
    },
    {
     "data": {
      "application/vnd.jupyter.widget-view+json": {
       "model_id": "9acde6c902b74128bc3a4badbeb0ca06",
       "version_major": 2,
       "version_minor": 0
      },
      "text/plain": [
       "FileUpload(value=(), accept='image/*', description='Upload')"
      ]
     },
     "metadata": {},
     "output_type": "display_data"
    },
    {
     "data": {
      "application/vnd.jupyter.widget-view+json": {
       "model_id": "174bcea63a624d5bb1086920b00a2e4e",
       "version_major": 2,
       "version_minor": 0
      },
      "text/plain": [
       "Button(description='Display Text', style=ButtonStyle())"
      ]
     },
     "metadata": {},
     "output_type": "display_data"
    }
   ],
   "source": [
    "import pytesseract\n",
    "from PIL import Image\n",
    "import io\n",
    "import os\n",
    "import ipywidgets as widgets\n",
    "from IPython.display import display, HTML\n",
    "from ipywidgets import Output\n",
    "\n",
    "# Define global variables\n",
    "image_for_ocr = None\n",
    "\n",
    "# Create an Output widget to capture and display debug information\n",
    "debug_output = Output()\n",
    "display(debug_output)\n",
    "\n",
    "def set_tesseract_cmd(path):\n",
    "    \"\"\"\n",
    "    Set the path to the Tesseract executable.\n",
    "    \n",
    "    Parameters:\n",
    "    path (str): Path to the Tesseract executable.\n",
    "    \"\"\"\n",
    "    if not os.path.isfile(path):\n",
    "        raise FileNotFoundError(f'Tesseract executable not found at {path}')\n",
    "    pytesseract.pytesseract.tesseract_cmd = path\n",
    "\n",
    "def perform_ocr(image, tesseract_cmd, lang='eng'):\n",
    "    \"\"\"\n",
    "    Extract text from an image using Tesseract OCR.\n",
    "    \n",
    "    Parameters:\n",
    "    image (PIL.Image.Image): The image to process.\n",
    "    tesseract_cmd (str): Path to the Tesseract executable.\n",
    "    lang (str): Language for OCR (default is 'eng').\n",
    "    \n",
    "    Returns:\n",
    "    str: Extracted text from the image.\n",
    "    \"\"\"\n",
    "    try:\n",
    "        set_tesseract_cmd(tesseract_cmd)\n",
    "        text = pytesseract.image_to_string(image, lang=lang)\n",
    "        return text\n",
    "    except Exception as e:\n",
    "        return f'An error occurred: {e}'\n",
    "\n",
    "def preprocess_image(image: Image.Image) -> Image.Image:\n",
    "    \"\"\"\n",
    "    Apply preprocessing to the image to improve OCR accuracy.\n",
    "    \n",
    "    Parameters:\n",
    "    image (PIL.Image.Image): The image to preprocess.\n",
    "    \n",
    "    Returns:\n",
    "    PIL.Image.Image: The preprocessed image.\n",
    "    \"\"\"\n",
    "    return image.convert('L')  # Convert image to grayscale\n",
    "\n",
    "def handle_upload(change):\n",
    "    \"\"\"\n",
    "    Handle image file upload and process it.\n",
    "    \"\"\"\n",
    "    global image_for_ocr\n",
    "    \n",
    "    if upload_widget.value:\n",
    "        with debug_output:\n",
    "            try:\n",
    "                # Get the uploaded file\n",
    "                file_data = upload_widget.value[0]               \n",
    "                       \n",
    "                \n",
    "                # Extract file content\n",
    "                file_content = file_data['content']\n",
    "                image = Image.open(io.BytesIO(file_content))\n",
    "                \n",
    "                # Display the uploaded image\n",
    "                display(HTML('<p>Uploaded Image:</p>'))\n",
    "                display(image)\n",
    "                \n",
    "                # Preprocess image\n",
    "                image_for_ocr = preprocess_image(image)\n",
    "                \n",
    "                display(HTML('<p>Image successfully uploaded. Click \"Display Text\" to see the OCR results.</p>'))\n",
    "            except Exception as e:\n",
    "                print(f\"Error during upload: {e}\")  # Debug\n",
    "                display(HTML(f'<p>An error occurred during upload: {e}</p>'))\n",
    "    else:\n",
    "        display(HTML('<p>No file uploaded.</p>'))\n",
    "\n",
    "def display_text(button):\n",
    "    \"\"\"\n",
    "    Perform OCR on the uploaded image and display the extracted text.\n",
    "    \"\"\"\n",
    "    if image_for_ocr:\n",
    "        with debug_output:\n",
    "            try:\n",
    "                tesseract_cmd = r'C:\\Program Files\\Tesseract-OCR\\tesseract.exe'\n",
    "                lang = lang_selector.value               \n",
    "                text = perform_ocr(image_for_ocr, tesseract_cmd, lang)\n",
    "                display(HTML('<p>Text extracted from image:</p>'))\n",
    "                display(HTML(f'<pre>{text}</pre>'))\n",
    "            except Exception as e:                \n",
    "                display(HTML(f'<p>An error occurred while extracting text: {e}</p>'))\n",
    "    else:\n",
    "        display(HTML('<p>Please upload an image first.</p>'))\n",
    "\n",
    "# Define widgets\n",
    "upload_widget = widgets.FileUpload(\n",
    "    accept='image/*',  # Accept only image files\n",
    "    multiple=False     # Only allow a single file to be uploaded\n",
    ")\n",
    "\n",
    "lang_selector = widgets.Dropdown(\n",
    "    options=['eng', 'spa', 'fra', 'deu'],  # Add more languages as needed\n",
    "    value='eng',\n",
    "    description='Language:',\n",
    ")\n",
    "\n",
    "display_button = widgets.Button(\n",
    "    description=\"Display Text\"\n",
    ")\n",
    "display_button.on_click(display_text)\n",
    "\n",
    "# Attach the function to the upload widget\n",
    "upload_widget.observe(handle_upload, names='value')\n",
    "\n",
    "# Display the widgets\n",
    "display(lang_selector)\n",
    "display(upload_widget)\n",
    "display(display_button)\n"
   ]
  },
  {
   "cell_type": "code",
   "execution_count": 2,
   "id": "06ce104f-a98f-40b2-819f-ff7505670d4c",
   "metadata": {},
   "outputs": [
    {
     "name": "stdout",
     "output_type": "stream",
     "text": [
      "Note: you may need to restart the kernel to use updated packages.\n"
     ]
    },
    {
     "name": "stderr",
     "output_type": "stream",
     "text": [
      "DEPRECATION: Loading egg at c:\\users\\chait\\appdata\\roaming\\python\\python311\\site-packages\\mlstabilitytest-0.2.0-py3.11.egg is deprecated. pip 24.3 will enforce this behaviour change. A possible replacement is to use pip for package installation.. Discussion can be found at https://github.com/pypa/pip/issues/12330\n"
     ]
    }
   ],
   "source": [
    "pip freeze > requirements.txt"
   ]
  },
  {
   "cell_type": "code",
   "execution_count": 3,
   "id": "fdb44aba-e1ec-4962-a954-aec708d8c309",
   "metadata": {},
   "outputs": [
    {
     "data": {
      "application/vnd.jupyter.widget-view+json": {
       "model_id": "dbc89007461b47499f70c878c325472e",
       "version_major": 2,
       "version_minor": 0
      },
      "text/plain": [
       "Output()"
      ]
     },
     "metadata": {},
     "output_type": "display_data"
    },
    {
     "data": {
      "application/vnd.jupyter.widget-view+json": {
       "model_id": "9b0179d4dcaf4bcb9f9368e5f32cf72f",
       "version_major": 2,
       "version_minor": 0
      },
      "text/plain": [
       "Text(value='C:\\\\Program Files\\\\Tesseract-OCR\\\\tesseract.exe', description='Tesseract Path:', style=TextStyle(d…"
      ]
     },
     "metadata": {},
     "output_type": "display_data"
    },
    {
     "data": {
      "application/vnd.jupyter.widget-view+json": {
       "model_id": "a2cbb0bd740f4e94b4eee333484c8e0f",
       "version_major": 2,
       "version_minor": 0
      },
      "text/plain": [
       "Dropdown(description='Language:', options=('eng', 'spa', 'fra', 'deu'), value='eng')"
      ]
     },
     "metadata": {},
     "output_type": "display_data"
    },
    {
     "data": {
      "application/vnd.jupyter.widget-view+json": {
       "model_id": "c974e713c94d4099bc06b6271d45b6ad",
       "version_major": 2,
       "version_minor": 0
      },
      "text/plain": [
       "FileUpload(value=(), accept='image/*', description='Upload')"
      ]
     },
     "metadata": {},
     "output_type": "display_data"
    },
    {
     "data": {
      "application/vnd.jupyter.widget-view+json": {
       "model_id": "0d56df95ce044ac6af0023a50a6c0fc9",
       "version_major": 2,
       "version_minor": 0
      },
      "text/plain": [
       "Button(description='Display Text', style=ButtonStyle())"
      ]
     },
     "metadata": {},
     "output_type": "display_data"
    }
   ],
   "source": [
    "import pytesseract\n",
    "from PIL import Image\n",
    "import io\n",
    "import os\n",
    "import ipywidgets as widgets\n",
    "from IPython.display import display, HTML\n",
    "from ipywidgets import Output\n",
    "\n",
    "# Define global variables\n",
    "image_for_ocr = None\n",
    "\n",
    "# Create an Output widget to capture and display debug information\n",
    "debug_output = Output()\n",
    "display(debug_output)\n",
    "\n",
    "def set_tesseract_cmd(path):\n",
    "    \"\"\"\n",
    "    Set the path to the Tesseract executable.\n",
    "    \n",
    "    Parameters:\n",
    "    path (str): Path to the Tesseract executable.\n",
    "    \"\"\"\n",
    "    if not os.path.isfile(path):\n",
    "        raise FileNotFoundError(f'Tesseract executable not found at {path}')\n",
    "    pytesseract.pytesseract.tesseract_cmd = path\n",
    "\n",
    "def perform_ocr(image, tesseract_cmd, lang='eng'):\n",
    "    \"\"\"\n",
    "    Extract text from an image using Tesseract OCR.\n",
    "    \n",
    "    Parameters:\n",
    "    image (PIL.Image.Image): The image to process.\n",
    "    tesseract_cmd (str): Path to the Tesseract executable.\n",
    "    lang (str): Language for OCR (default is 'eng').\n",
    "    \n",
    "    Returns:\n",
    "    str: Extracted text from the image.\n",
    "    \"\"\"\n",
    "    try:\n",
    "        set_tesseract_cmd(tesseract_cmd)\n",
    "        text = pytesseract.image_to_string(image, lang=lang)\n",
    "        return text\n",
    "    except Exception as e:\n",
    "        return f'An error occurred: {e}'\n",
    "\n",
    "def preprocess_image(image: Image.Image) -> Image.Image:\n",
    "    \"\"\"\n",
    "    Apply preprocessing to the image to improve OCR accuracy.\n",
    "    \n",
    "    Parameters:\n",
    "    image (PIL.Image.Image): The image to preprocess.\n",
    "    \n",
    "    Returns:\n",
    "    PIL.Image.Image: The preprocessed image.\n",
    "    \"\"\"\n",
    "    return image.convert('L')  # Convert image to grayscale\n",
    "\n",
    "def handle_upload(change):\n",
    "    \"\"\"\n",
    "    Handle image file upload and process it.\n",
    "    \"\"\"\n",
    "    global image_for_ocr\n",
    "    \n",
    "    if upload_widget.value:\n",
    "        with debug_output:\n",
    "            try:\n",
    "                # Get the uploaded file\n",
    "                file_data = upload_widget.value[0]               \n",
    "                # Extract file content\n",
    "                file_content = file_data['content']\n",
    "                image = Image.open(io.BytesIO(file_content))\n",
    "                \n",
    "                # Display the uploaded image\n",
    "                display(HTML('<p>Uploaded Image:</p>'))\n",
    "                display(image)\n",
    "                \n",
    "                # Preprocess image\n",
    "                image_for_ocr = preprocess_image(image)\n",
    "                \n",
    "                display(HTML('<p>Image successfully uploaded. Click \"Display Text\" to see the OCR results.</p>'))\n",
    "            except Exception as e:\n",
    "                print(f\"Error during upload: {e}\")  # Debug\n",
    "                display(HTML(f'<p>An error occurred during upload: {e}</p>'))\n",
    "    else:\n",
    "        display(HTML('<p>No file uploaded.</p>'))\n",
    "\n",
    "def display_text(button):\n",
    "    \"\"\"\n",
    "    Perform OCR on the uploaded image and display the extracted text.\n",
    "    \"\"\"\n",
    "    if image_for_ocr:\n",
    "        with debug_output:\n",
    "            try:\n",
    "                tesseract_cmd = tesseract_cmd_input.value\n",
    "                lang = lang_selector.value               \n",
    "                text = perform_ocr(image_for_ocr, tesseract_cmd, lang)\n",
    "                display(HTML('<p>Text extracted from image:</p>'))\n",
    "                display(HTML(f'<pre>{text}</pre>'))\n",
    "            except Exception as e:                \n",
    "                display(HTML(f'<p>An error occurred while extracting text: {e}</p>'))\n",
    "    else:\n",
    "        display(HTML('<p>Please upload an image first.</p>'))\n",
    "\n",
    "# Define widgets\n",
    "upload_widget = widgets.FileUpload(\n",
    "    accept='image/*',  # Accept only image files\n",
    "    multiple=False     # Only allow a single file to be uploaded\n",
    ")\n",
    "\n",
    "lang_selector = widgets.Dropdown(\n",
    "    options=['eng', 'spa', 'fra', 'deu'],  # Add more languages as needed\n",
    "    value='eng',\n",
    "    description='Language:',\n",
    ")\n",
    "\n",
    "# Add a text input for Tesseract command path\n",
    "tesseract_cmd_input = widgets.Text(\n",
    "    value=r'C:\\Program Files\\Tesseract-OCR\\tesseract.exe',\n",
    "    description='Tesseract Path:',\n",
    "    style={'description_width': 'initial'}\n",
    ")\n",
    "\n",
    "display_button = widgets.Button(\n",
    "    description=\"Display Text\"\n",
    ")\n",
    "display_button.on_click(display_text)\n",
    "\n",
    "# Attach the function to the upload widget\n",
    "upload_widget.observe(handle_upload, names='value')\n",
    "\n",
    "# Display the widgets\n",
    "display(tesseract_cmd_input)\n",
    "display(lang_selector)\n",
    "display(upload_widget)\n",
    "display(display_button)\n"
   ]
  },
  {
   "cell_type": "code",
   "execution_count": null,
   "id": "67bf2f1c-8f42-4835-a499-ee1de322dc54",
   "metadata": {},
   "outputs": [],
   "source": []
  }
 ],
 "metadata": {
  "kernelspec": {
   "display_name": "Python 3 (ipykernel)",
   "language": "python",
   "name": "python3"
  },
  "language_info": {
   "codemirror_mode": {
    "name": "ipython",
    "version": 3
   },
   "file_extension": ".py",
   "mimetype": "text/x-python",
   "name": "python",
   "nbconvert_exporter": "python",
   "pygments_lexer": "ipython3",
   "version": "3.11.9"
  }
 },
 "nbformat": 4,
 "nbformat_minor": 5
}
